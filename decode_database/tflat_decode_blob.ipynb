{
 "cells": [
  {
   "cell_type": "code",
   "execution_count": 2,
   "metadata": {},
   "outputs": [],
   "source": [
    "# com.vn.dic.e.v.ui (17 chars)\n",
    "a = 2\n",
    "b = 7\n",
    "\n",
    "def decode_blob(blob):\n",
    "    length = 0\n",
    "\n",
    "    #  create new bytes with the same length blob\n",
    "    new_blob = bytearray(len(blob))\n",
    "\n",
    "    if a > 0:\n",
    "        length = len(blob) // a\n",
    "    else:\n",
    "        length = len(blob) // 2\n",
    "\n",
    "    for i in range(0, length * 2, 2):\n",
    "        if (i > (b * 2 if b > 0 else 14) + length):\n",
    "            new_blob[i] = blob[i]\n",
    "            new_blob[i + 1] = blob[i + 1]\n",
    "        else:\n",
    "            new_blob[i] = blob[i + 1]\n",
    "            new_blob[i + 1] = blob[i]\n",
    "\n",
    "    if (len(blob) % 2 == 1):\n",
    "        new_blob[len(blob) - 1] = blob[len(blob) - 1]\n",
    "    \n",
    "    return new_blob\n",
    "\n",
    "# Write the new bytes to the file\n",
    "# with open(f'{b}.bin', 'wb') as f:\n",
    "#     f.write(new_blob)"
   ]
  },
  {
   "cell_type": "code",
   "execution_count": 5,
   "metadata": {},
   "outputs": [
    {
     "name": "stdout",
     "output_type": "stream",
     "text": [
      "TEXT: 169221\n",
      "BLOB: 0\n"
     ]
    }
   ],
   "source": [
    "import sqlite3\n",
    "import gzip\n",
    "\n",
    "conn = sqlite3.connect('av_all_v3.db')\n",
    "\n",
    "cursor = conn.cursor()\n",
    "\n",
    "# TEXT: 125189\n",
    "# BLOB: 44032\n",
    "text = 0\n",
    "blob = 0\n",
    "for row in cursor.execute('SELECT word, av FROM av'):\n",
    "    word, av = row\n",
    "    # Check if av is TEXT or BLOB\n",
    "    if av[:3] == b'\\t\\t\\t':\n",
    "        gzip_data = decode_blob(av[3:])\n",
    "        decompressed = gzip.decompress(gzip_data)\n",
    "        conn.execute('UPDATE av SET av = ? WHERE word = ?', (decompressed, word))\n",
    "        conn.commit()\n",
    "        print(str(blob) + f' Updated {word}')\n",
    "        blob += 1\n",
    "    else:\n",
    "        text += 1\n",
    "\n",
    "print(f'TEXT: {text}')\n",
    "print(f'BLOB: {blob}')\n"
   ]
  }
 ],
 "metadata": {
  "kernelspec": {
   "display_name": "Python 3",
   "language": "python",
   "name": "python3"
  },
  "language_info": {
   "codemirror_mode": {
    "name": "ipython",
    "version": 3
   },
   "file_extension": ".py",
   "mimetype": "text/x-python",
   "name": "python",
   "nbconvert_exporter": "python",
   "pygments_lexer": "ipython3",
   "version": "3.11.4"
  },
  "orig_nbformat": 4
 },
 "nbformat": 4,
 "nbformat_minor": 2
}
